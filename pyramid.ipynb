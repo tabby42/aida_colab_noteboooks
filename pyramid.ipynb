{
  "nbformat": 4,
  "nbformat_minor": 0,
  "metadata": {
    "colab": {
      "name": "pyramid.ipynb",
      "provenance": [],
      "collapsed_sections": [],
      "include_colab_link": true
    },
    "kernelspec": {
      "name": "python3",
      "display_name": "Python 3"
    },
    "language_info": {
      "name": "python"
    }
  },
  "cells": [
    {
      "cell_type": "markdown",
      "metadata": {
        "id": "view-in-github",
        "colab_type": "text"
      },
      "source": [
        "<a href=\"https://colab.research.google.com/github/tabby42/aida_colab_noteboooks/blob/main/pyramid.ipynb\" target=\"_parent\"><img src=\"https://colab.research.google.com/assets/colab-badge.svg\" alt=\"Open In Colab\"/></a>"
      ]
    },
    {
      "cell_type": "markdown",
      "source": [
        "```\n",
        "   *\n",
        "  ***\n",
        " *****\n",
        "*******\n",
        "```"
      ],
      "metadata": {
        "id": "Rg0Kjg-Wbkri"
      }
    },
    {
      "cell_type": "markdown",
      "source": [
        "```\n",
        "        *\n",
        "       ***\n",
        "      *****\n",
        "     *******\n",
        "    *********\n",
        "   ***********\n",
        "  *************\n",
        " ***************\n",
        "*****************\n",
        "```"
      ],
      "metadata": {
        "id": "Em3nO09OwyE8"
      }
    },
    {
      "cell_type": "code",
      "source": [
        "def repeat_str(string, count):\n",
        "  return string * count\n",
        "\n",
        "def calc_offset(pyramid_size, row_index):\n",
        "  return pyramid_size - row_index - 1\n",
        "\n",
        "#def calc_row_size(row_index):\n",
        "#  return row_index * 2 + 1\n",
        "\n",
        "def draw_pyramid_row(pyramid_size,row_index,primary_symbol,secondary_symbol):\n",
        "  return repeat_str(' ',calc_offset(pyramid_size, row_index)) + repeat_str(primary_symbol+secondary_symbol, row_index) + primary_symbol\n",
        "\n",
        "def draw_pyramid(pyramid_size, primary_symbol,secondary_symbol):\n",
        "  text = ''\n",
        "  for row_index in range(0, pyramid_size):\n",
        "    text += draw_pyramid_row(pyramid_size,row_index,primary_symbol,secondary_symbol) + '\\n'\n",
        "  return text"
      ],
      "metadata": {
        "id": "OY0zIuimvw41"
      },
      "execution_count": null,
      "outputs": []
    },
    {
      "cell_type": "code",
      "source": [
        "print(draw_pyramid_row(4,0,'*','_'))\n",
        "print(draw_pyramid_row(4,1,'*','_'))\n",
        "print(draw_pyramid_row(4,2,'*','_'))\n",
        "print(draw_pyramid_row(4,3,'*','_'))"
      ],
      "metadata": {
        "colab": {
          "base_uri": "https://localhost:8080/"
        },
        "id": "TtvVUKc4yQVt",
        "outputId": "ec00fed7-7f87-440b-a19a-17b264a1b250"
      },
      "execution_count": null,
      "outputs": [
        {
          "output_type": "stream",
          "name": "stdout",
          "text": [
            "   *\n",
            "  *_*\n",
            " *_*_*\n",
            "*_*_*_*\n"
          ]
        }
      ]
    },
    {
      "cell_type": "code",
      "source": [
        "print(draw_pyramid(20,'#','_'))"
      ],
      "metadata": {
        "colab": {
          "base_uri": "https://localhost:8080/"
        },
        "id": "qAIPPGwfzbEN",
        "outputId": "72653741-f99a-491a-d407-61da153f0919"
      },
      "execution_count": null,
      "outputs": [
        {
          "output_type": "stream",
          "name": "stdout",
          "text": [
            "                   #\n",
            "                  #_#\n",
            "                 #_#_#\n",
            "                #_#_#_#\n",
            "               #_#_#_#_#\n",
            "              #_#_#_#_#_#\n",
            "             #_#_#_#_#_#_#\n",
            "            #_#_#_#_#_#_#_#\n",
            "           #_#_#_#_#_#_#_#_#\n",
            "          #_#_#_#_#_#_#_#_#_#\n",
            "         #_#_#_#_#_#_#_#_#_#_#\n",
            "        #_#_#_#_#_#_#_#_#_#_#_#\n",
            "       #_#_#_#_#_#_#_#_#_#_#_#_#\n",
            "      #_#_#_#_#_#_#_#_#_#_#_#_#_#\n",
            "     #_#_#_#_#_#_#_#_#_#_#_#_#_#_#\n",
            "    #_#_#_#_#_#_#_#_#_#_#_#_#_#_#_#\n",
            "   #_#_#_#_#_#_#_#_#_#_#_#_#_#_#_#_#\n",
            "  #_#_#_#_#_#_#_#_#_#_#_#_#_#_#_#_#_#\n",
            " #_#_#_#_#_#_#_#_#_#_#_#_#_#_#_#_#_#_#\n",
            "#_#_#_#_#_#_#_#_#_#_#_#_#_#_#_#_#_#_#_#\n",
            "\n"
          ]
        }
      ]
    },
    {
      "cell_type": "markdown",
      "source": [
        "```\n",
        "        *\n",
        "       *_*\n",
        "      *_*_*\n",
        "     *_*_*_*\n",
        "    *_*_*_*_*\n",
        "   *_*_*_*_*_*\n",
        "  *_*_*_*_*_*_*\n",
        " *_*_*_*_*_*_*_*\n",
        "*_*_*_*_*_*_*_*_*\n",
        "```"
      ],
      "metadata": {
        "id": "LAuwxGbSdFTO"
      }
    },
    {
      "cell_type": "markdown",
      "source": [
        "```txt\n",
        "*_*_*_*_*_*_*_*_*\n",
        " *_*_*_*_*_*_*_*\n",
        "  *_*_*_*_*_*_*\n",
        "   *_*_*_*_*_*\n",
        "    *_*_*_*_*\n",
        "     *_*_*_*\n",
        "      *_*_*\n",
        "       *_*\n",
        "        *\n",
        "       *_*\n",
        "      *_*_*\n",
        "     *_*_*_*\n",
        "    *_*_*_*_*\n",
        "   *_*_*_*_*_*\n",
        "  *_*_*_*_*_*_*\n",
        " *_*_*_*_*_*_*_*\n",
        "*_*_*_*_*_*_*_*_*\n",
        "```"
      ],
      "metadata": {
        "id": "xyYCI_lkcFQk"
      }
    },
    {
      "cell_type": "markdown",
      "source": [
        "```\n",
        "*_*_*_*_*_*_*_*_*\n",
        " *_*_*_*_*_*_*_*\n",
        "  *_*_*_*_*_*_*\n",
        "   *_*_*_*_*_*\n",
        "    *_*_*_*_*\n",
        "     *_*_*_*\n",
        "      *_*_*\n",
        "       *_*\n",
        "        *\n",
        "       *_*\n",
        "      *_*_*\n",
        "     *_*_*_*\n",
        "    *_*_*_*_*\n",
        "   *_*_*_*_*_*\n",
        "  *_*_*_*_*_*_*\n",
        " *_*_*_*_*_*_*_*\n",
        "*_*_*_*_*_*_*_*_* \n",
        " *_*_*_*_*_*_*_*\n",
        "  *_*_*_*_*_*_*\n",
        "   *_*_*_*_*_*\n",
        "    *_*_*_*_*\n",
        "     *_*_*_*\n",
        "      *_*_*\n",
        "       *_*\n",
        "        *\n",
        "```"
      ],
      "metadata": {
        "id": "I28ubEgScFdf"
      }
    }
  ]
}