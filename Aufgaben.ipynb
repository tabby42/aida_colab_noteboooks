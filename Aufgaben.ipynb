{
  "nbformat": 4,
  "nbformat_minor": 0,
  "metadata": {
    "colab": {
      "name": "Aufgaben.ipynb",
      "provenance": [],
      "collapsed_sections": [],
      "include_colab_link": true
    },
    "kernelspec": {
      "name": "python3",
      "display_name": "Python 3"
    },
    "language_info": {
      "name": "python"
    }
  },
  "cells": [
    {
      "cell_type": "markdown",
      "metadata": {
        "id": "view-in-github",
        "colab_type": "text"
      },
      "source": [
        "<a href=\"https://colab.research.google.com/github/tabby42/aida_colab_noteboooks/blob/main/Aufgaben.ipynb\" target=\"_parent\"><img src=\"https://colab.research.google.com/assets/colab-badge.svg\" alt=\"Open In Colab\"/></a>"
      ]
    },
    {
      "cell_type": "markdown",
      "source": [
        "## Aufgabe 1\n",
        "\n",
        "Schreibe eine rekursive Funktion `fac_rec(num)`, die die Zahlen von 1 bis `num` multipliziert. (So wie die Funktion `little_gauss`).\n",
        "\n",
        "*Ersetze `pass` durch deine Implementierung*"
      ],
      "metadata": {
        "id": "SVJ1s_h1XQeA"
      }
    },
    {
      "cell_type": "code",
      "source": [
        "def fac_rec(num):\n",
        "  pass"
      ],
      "metadata": {
        "id": "IvPUK-q1XP9J"
      },
      "execution_count": null,
      "outputs": []
    },
    {
      "cell_type": "markdown",
      "source": [
        "## Aufgabe 2\n",
        "\n",
        "Die Fibonacci-Zahlen lauten 0,1,1,2,3,5,8,13,21...\n",
        "\n",
        "Jede zahl ist die Summe ihrer beiden Vorgänger.\n",
        "\n",
        "3+5=8\n",
        "\n",
        "5+8=13\n",
        "\n",
        "Schreibe eine rekursive Funktion `fib_rec(n)`, die die nte Fibonacci-Zahl.berechnet. Die 0te Fibonacci-Zahl ist 0. Die 1te Fibonacci-Zahl ist 0.\n",
        "```\n",
        "fib_rec(0) = 0\n",
        "fib_rec(1) = 1\n",
        "fib_rec(5) = 5\n",
        "fib_rec(6) = 8\n",
        "```\n"
      ],
      "metadata": {
        "id": "T2RONxQlYBXC"
      }
    },
    {
      "cell_type": "code",
      "source": [
        "def fib_rec(n):\n",
        "  pass"
      ],
      "metadata": {
        "id": "gI-9fax-YKfI"
      },
      "execution_count": null,
      "outputs": []
    },
    {
      "cell_type": "markdown",
      "source": [
        "## Aufgabe 3\n",
        "Schreibe eine Funktion `compound_interest(base_interest, run_time)` die den Zinseszins berechent."
      ],
      "metadata": {
        "id": "WOIXwgXbaG8o"
      }
    },
    {
      "cell_type": "code",
      "source": [
        "def compound_interest(base_interest, run_time):\n",
        "  return 0"
      ],
      "metadata": {
        "id": "0sUj82XtaIBf"
      },
      "execution_count": null,
      "outputs": []
    },
    {
      "cell_type": "code",
      "source": [
        "anfangskapital = 37\n",
        "zinssatz = 3.5\n",
        "laufzeit = 10\n",
        "\n",
        "kapital  = anfangskapital * compound_interest(zinssatz, laufzeit) \n",
        "print(kapital) # 52.19215414298148"
      ],
      "metadata": {
        "colab": {
          "base_uri": "https://localhost:8080/"
        },
        "id": "Y6sB05W4a5Yx",
        "outputId": "1a31cb51-8bf3-4f2b-bf1e-7e83651efdc0"
      },
      "execution_count": null,
      "outputs": [
        {
          "output_type": "stream",
          "name": "stdout",
          "text": [
            "0\n"
          ]
        }
      ]
    }
  ]
}