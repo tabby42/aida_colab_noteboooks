{
 "cells": [
  {
   "cell_type": "code",
   "execution_count": 64,
   "id": "d411fca0",
   "metadata": {},
   "outputs": [
    {
     "data": {
      "text/plain": [
       "[array(['Alexander', 'Mustafa', 'Benjamin', 'Jaqueline', 'Markus'],\n",
       "       dtype='<U9'),\n",
       " array(['Irene', 'Pamina', 'Bernhard', 'Florian'], dtype='<U9')]"
      ]
     },
     "execution_count": 64,
     "metadata": {},
     "output_type": "execute_result"
    }
   ],
   "source": [
    "import numpy as np\n",
    "\n",
    "members = ['Pamina', \n",
    "           'Jaqueline', \n",
    "           'Irene', \n",
    "           'Benjamin', \n",
    "           'Bernhard', \n",
    "           'Markus',\n",
    "           'Florian',\n",
    "           'Alexander',\n",
    "           'Mustafa']\n",
    "\n",
    "def draw_groups(group, groupsize):\n",
    "    choices = np.random.choice(group, size=len(group), replace=False)\n",
    "    return np.array_split(choices, groupsize)\n",
    "\n",
    "#copy(), list() or [:] to not modify original list\n",
    "shuffled = np.array(members.copy())\n",
    "\n",
    "draw_groups(shuffled, 2)"
   ]
  },
  {
   "cell_type": "code",
   "execution_count": 121,
   "id": "5e3dbd97",
   "metadata": {},
   "outputs": [
    {
     "name": "stdout",
     "output_type": "stream",
     "text": [
      "[['Jaqueline' 'Pamina' 'Bernhard' 'Irene']\n",
      " ['Florian' 'Markus' 'Benjamin' 'Mustafa']\n",
      " ['Alexander' '' '' '']]\n"
     ]
    }
   ],
   "source": [
    "shuffled = np.random.choice(members, size=len(members), replace=False)\n",
    "size = 4\n",
    "shuffled.resize((len(shuffled)//(size - 1), size), refcheck=False)\n",
    "print(shuffled)"
   ]
  },
  {
   "cell_type": "code",
   "execution_count": 117,
   "id": "3e527a96",
   "metadata": {},
   "outputs": [
    {
     "name": "stdout",
     "output_type": "stream",
     "text": [
      "Bernhard\n",
      "Bernhard\n",
      "Bernhard\n"
     ]
    }
   ],
   "source": [
    "randomlist = np.random.choice(members, size=len(members), replace=False)\n",
    "group_count=3\n",
    "n = len(members)\n",
    "for i in range(group_count):\n",
    "    subgroup = list(randomlist).pop()\n",
    "    #i += group_count\n",
    "    print(subgroup)"
   ]
  },
  {
   "cell_type": "code",
   "execution_count": null,
   "id": "6c5ac36f",
   "metadata": {},
   "outputs": [],
   "source": []
  }
 ],
 "metadata": {
  "kernelspec": {
   "display_name": "Python 3 (ipykernel)",
   "language": "python",
   "name": "python3"
  },
  "language_info": {
   "codemirror_mode": {
    "name": "ipython",
    "version": 3
   },
   "file_extension": ".py",
   "mimetype": "text/x-python",
   "name": "python",
   "nbconvert_exporter": "python",
   "pygments_lexer": "ipython3",
   "version": "3.8.11"
  }
 },
 "nbformat": 4,
 "nbformat_minor": 5
}
