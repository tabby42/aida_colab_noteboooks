{
 "cells": [
  {
   "cell_type": "markdown",
   "metadata": {
    "colab_type": "text",
    "id": "view-in-github"
   },
   "source": [
    "<a href=\"https://colab.research.google.com/github/tabby42/aida_colab_noteboooks/blob/main/Aufgaben.ipynb\" target=\"_parent\"><img src=\"https://colab.research.google.com/assets/colab-badge.svg\" alt=\"Open In Colab\"/></a>"
   ]
  },
  {
   "cell_type": "markdown",
   "metadata": {
    "id": "SVJ1s_h1XQeA"
   },
   "source": [
    "## Aufgabe 1\n",
    "\n",
    "Schreibe eine rekursive Funktion `fac_rec(num)`, die die Zahlen von 1 bis `num` multipliziert. (So wie die Funktion `little_gauss`).\n",
    "\n",
    "*Ersetze `pass` durch deine Implementierung*"
   ]
  },
  {
   "cell_type": "code",
   "execution_count": 11,
   "metadata": {
    "id": "IvPUK-q1XP9J"
   },
   "outputs": [],
   "source": [
    "def fac_rec(num):\n",
    "    if num <= 0:\n",
    "        raise ValueError('No negative numbers')\n",
    "    if num == 1:\n",
    "        return 1\n",
    "    return num * fac_rec(num - 1)"
   ]
  },
  {
   "cell_type": "code",
   "execution_count": 12,
   "metadata": {},
   "outputs": [
    {
     "data": {
      "text/plain": [
       "6"
      ]
     },
     "execution_count": 12,
     "metadata": {},
     "output_type": "execute_result"
    }
   ],
   "source": [
    "fac_rec(3)"
   ]
  },
  {
   "cell_type": "markdown",
   "metadata": {
    "id": "T2RONxQlYBXC"
   },
   "source": [
    "## Aufgabe 2\n",
    "\n",
    "Die Fibonacci-Zahlen lauten 0,1,1,2,3,5,8,13,21...\n",
    "\n",
    "Jede zahl ist die Summe ihrer beiden Vorgänger.\n",
    "\n",
    "3+5=8\n",
    "\n",
    "5+8=13\n",
    "\n",
    "Schreibe eine rekursive Funktion `fib_rec(n)`, die die nte Fibonacci-Zahl.berechnet. Die 0te Fibonacci-Zahl ist 0. Die 1te Fibonacci-Zahl ist 0.\n",
    "```\n",
    "fib_rec(0) = 0\n",
    "fib_rec(1) = 1\n",
    "fib_rec(5) = 5\n",
    "fib_rec(6) = 8\n",
    "```\n"
   ]
  },
  {
   "cell_type": "code",
   "execution_count": 64,
   "metadata": {},
   "outputs": [],
   "source": [
    "def fib_rec(n):\n",
    "    if n <= 1:\n",
    "        return n\n",
    "\n",
    "    print(n)\n",
    "    print('***')\n",
    "    print(fib_rec(n - 1) + fib_rec(n - 2))\n",
    "    print('---')\n",
    "    return fib_rec(n - 1) + fib_rec(n - 2)"
   ]
  },
  {
   "cell_type": "code",
   "execution_count": 66,
   "metadata": {},
   "outputs": [
    {
     "name": "stdout",
     "output_type": "stream",
     "text": [
      "3\n",
      "***\n",
      "2\n",
      "***\n",
      "1\n",
      "---\n",
      "2\n",
      "---\n",
      "2\n",
      "***\n",
      "1\n",
      "---\n"
     ]
    },
    {
     "data": {
      "text/plain": [
       "2"
      ]
     },
     "execution_count": 66,
     "metadata": {},
     "output_type": "execute_result"
    }
   ],
   "source": [
    "fib_rec(3)"
   ]
  },
  {
   "cell_type": "code",
   "execution_count": 35,
   "metadata": {},
   "outputs": [
    {
     "data": {
      "text/plain": [
       "5"
      ]
     },
     "execution_count": 35,
     "metadata": {},
     "output_type": "execute_result"
    }
   ],
   "source": [
    "fib_rec(0)\n",
    "fib_rec(1)\n",
    "fib_rec(5)\n",
    "#fib_rec(6)"
   ]
  },
  {
   "cell_type": "code",
   "execution_count": 46,
   "metadata": {
    "id": "gI-9fax-YKfI"
   },
   "outputs": [],
   "source": [
    "def fib(n):\n",
    "    x, y = 0, 1\n",
    "    for _ in range(n):\n",
    "        x, y = y, x + y\n",
    "        #print(f'x: {x}\\n y: {y}')\n",
    "    return x"
   ]
  },
  {
   "cell_type": "code",
   "execution_count": 54,
   "metadata": {},
   "outputs": [
    {
     "data": {
      "text/plain": [
       "55"
      ]
     },
     "execution_count": 54,
     "metadata": {},
     "output_type": "execute_result"
    }
   ],
   "source": [
    "fib(10)"
   ]
  },
  {
   "cell_type": "markdown",
   "metadata": {
    "id": "WOIXwgXbaG8o"
   },
   "source": [
    "## Aufgabe 3\n",
    "Schreibe eine Funktion `compound_interest(base_interest, run_time)` die den Zinseszins berechent."
   ]
  },
  {
   "cell_type": "code",
   "execution_count": 52,
   "metadata": {
    "id": "0sUj82XtaIBf"
   },
   "outputs": [],
   "source": [
    "def compound_interest(base_interest, run_time):\n",
    "    return (1 + base_interest/100) ** run_time"
   ]
  },
  {
   "cell_type": "code",
   "execution_count": 53,
   "metadata": {
    "colab": {
     "base_uri": "https://localhost:8080/"
    },
    "id": "Y6sB05W4a5Yx",
    "outputId": "1a31cb51-8bf3-4f2b-bf1e-7e83651efdc0"
   },
   "outputs": [
    {
     "name": "stdout",
     "output_type": "stream",
     "text": [
      "52.19215414298148\n"
     ]
    }
   ],
   "source": [
    "anfangskapital = 37\n",
    "zinssatz = 3.5\n",
    "laufzeit = 10\n",
    "\n",
    "kapital  = anfangskapital * compound_interest(zinssatz, laufzeit) \n",
    "print(kapital) # 52.19215414298148"
   ]
  }
 ],
 "metadata": {
  "colab": {
   "collapsed_sections": [],
   "include_colab_link": true,
   "name": "Aufgaben.ipynb",
   "provenance": []
  },
  "kernelspec": {
   "display_name": "Python 3 (ipykernel)",
   "language": "python",
   "name": "python3"
  },
  "language_info": {
   "codemirror_mode": {
    "name": "ipython",
    "version": 3
   },
   "file_extension": ".py",
   "mimetype": "text/x-python",
   "name": "python",
   "nbconvert_exporter": "python",
   "pygments_lexer": "ipython3",
   "version": "3.10.4"
  }
 },
 "nbformat": 4,
 "nbformat_minor": 1
}
